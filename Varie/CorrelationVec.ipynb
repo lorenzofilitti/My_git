{
 "cells": [
  {
   "cell_type": "code",
   "execution_count": 91,
   "id": "5c372549-21d1-45e3-9d7b-9897764906af",
   "metadata": {},
   "outputs": [],
   "source": [
    "import json\n",
    "import pandas as pd\n",
    "import numpy as np\n",
    "\n",
    "f = open('../DatiTab_Filtrati/Output.json', 'r')\n",
    "data1 = json.load(f)\n",
    "\n",
    "f = open(\"../DatiTab_Filtrati/Recensioni.csv\", \"r\")\n",
    "data2 = pd.read_csv(f, usecols=[\"rating2\"], sep=';')\n",
    "data2_json = data2.to_json(orient='records')\n",
    "\n",
    "with open('../DatiTab_Filtrati/rating_gold.json', 'w') as f:\n",
    "    f.write(data2_json)\n",
    "\n",
    "with open('../DatiTab_Filtrati/rating_gold.json', 'r') as j:\n",
    "    corpus = json.load(j)\n",
    "\n",
    "rating_llm = np.array([i['rating'] for i in data1])\n",
    "rating_gold = np.array([i['rating2'] for i in corpus])"
   ]
  },
  {
   "cell_type": "code",
   "execution_count": 92,
   "id": "d72fcff1-377b-4bb2-a3ee-ccc865711d10",
   "metadata": {},
   "outputs": [
    {
     "name": "stdout",
     "output_type": "stream",
     "text": [
      "Numero di True: 157\n",
      "Proporzione su tutti: 0.46865671641791046\n"
     ]
    }
   ],
   "source": [
    "def calcola_uguali(x, y):\n",
    "    \"\"\"Calcola la proporzione di elementi uguali tra due array.\n",
    "\n",
    "  Args:\n",
    "    x: Primo array.\n",
    "    y: Secondo array.\n",
    "\n",
    "  Returns:\n",
    "    La proporzione di elementi uguali.\n",
    "  \"\"\"\n",
    "    comparison = x==y\n",
    "    tutti = len(comparison)\n",
    "    true = comparison.sum() #.sum() prende in automatico quelli 'True'\n",
    "    print(f'Numero di True:', true)\n",
    "    return print(f'Proporzione su tutti:', true/tutti)\n",
    "\n",
    "calcola_uguali(rating_gold, rating_llm)"
   ]
  },
  {
   "cell_type": "code",
   "execution_count": 94,
   "id": "327edee0-6b7f-469d-8d9e-4b81c6043339",
   "metadata": {},
   "outputs": [
    {
     "data": {
      "text/plain": [
       "335"
      ]
     },
     "execution_count": 94,
     "metadata": {},
     "output_type": "execute_result"
    }
   ],
   "source": [
    "len(rating_llm)"
   ]
  }
 ],
 "metadata": {
  "kernelspec": {
   "display_name": "Python 3 (ipykernel)",
   "language": "python",
   "name": "python3"
  },
  "language_info": {
   "codemirror_mode": {
    "name": "ipython",
    "version": 3
   },
   "file_extension": ".py",
   "mimetype": "text/x-python",
   "name": "python",
   "nbconvert_exporter": "python",
   "pygments_lexer": "ipython3",
   "version": "3.12.6"
  }
 },
 "nbformat": 4,
 "nbformat_minor": 5
}
